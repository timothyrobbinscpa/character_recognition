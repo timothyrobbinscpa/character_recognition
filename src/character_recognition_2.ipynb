{
 "cells": [
  {
   "cell_type": "markdown",
   "id": "8251d355-7a3a-4caa-8ed5-4c06bd120926",
   "metadata": {},
   "source": [
    "https://www.kaggle.com/datasets/dhruvildave/english-handwritten-characters-dataset"
   ]
  },
  {
   "cell_type": "code",
   "execution_count": null,
   "id": "958dd319-e5ff-4b24-aabd-f6abf0de2224",
   "metadata": {},
   "outputs": [],
   "source": []
  },
  {
   "cell_type": "code",
   "execution_count": 26,
   "id": "938b08dd-0c6f-42c2-b822-550755ecc1c3",
   "metadata": {
    "tags": []
   },
   "outputs": [],
   "source": [
    "# Import Necessary Libraries\n",
    "\n",
    "import tensorflow as tf\n",
    "from tensorflow import keras\n",
    "from keras_tuner import HyperModel, Hyperband\n",
    "from sklearn.model_selection import train_test_split\n",
    "import numpy as np\n",
    "import pandas as pd\n",
    "from PIL import Image\n",
    "import os\n",
    "from keras_tuner.tuners import Hyperband\n",
    "from tensorflow.keras.models import Sequential\n",
    "from tensorflow.keras.layers import Conv2D, MaxPooling2D, Flatten, Dense\n",
    "from tensorflow.keras.optimizers import Adam\n",
    "import matplotlib.pyplot as plt\n",
    "import random as python_random\n",
    "import datetime\n",
    "from tensorflow.keras.preprocessing.image import ImageDataGenerator\n",
    "from keras.preprocessing.image import load_img\n",
    "\n",
    "np.random.seed(33)\n",
    "python_random.seed(33)\n",
    "tf.random.set_seed(33)\n"
   ]
  },
  {
   "cell_type": "code",
   "execution_count": 38,
   "id": "86f6850b-a77f-47be-8621-0bac64d8635d",
   "metadata": {
    "tags": []
   },
   "outputs": [],
   "source": [
    "# Load and Preprocess the Data\n",
    "\n",
    "# Load the CSV with labels\n",
    "label_file = '../data/english.csv'  # Update this path\n",
    "df = pd.read_csv(label_file)\n",
    "\n",
    "# Prepare image data\n",
    "def load_images(image_folder, filenames, image_size):\n",
    "    images = []\n",
    "    for file in filenames:\n",
    "        img_path = os.path.join(image_folder, file)\n",
    "        img = Image.open(img_path).convert('L')  # Convert to grayscale\n",
    "        img = img.resize(image_size)\n",
    "        img_array = np.array(img)\n",
    "        images.append(img_array)\n",
    "    images = np.array(images) / 255.0  # Normalize images\n",
    "    return images\n",
    "\n",
    "# Update with your image folder path and image size\n",
    "image_folder = '../data/'\n",
    "image_size = (28, 28)  # Example size, adjust to your data\n",
    "filenames = df['image'].tolist()  # Adjust 'filename' based on your CSV\n",
    "images = load_images(image_folder, filenames, image_size)\n",
    "\n",
    "# Prepare labels\n",
    "num_classes = 62  # Update based on your dataset\n",
    "\n",
    "# Create a mapping for the labels\n",
    "label_mapping = {chr(i): i - 48 for i in range(48, 58)}  # '0'-'9', 0-9\n",
    "label_mapping.update({chr(i): i - 65 + 10 for i in range(65, 91)})  # 'A'-'Z', 10-35\n",
    "label_mapping.update({chr(i): i - 97 + 36 for i in range(97, 123)})  # 'a'-'z', 36-61\n",
    "\n",
    "# Map the labels to integers\n",
    "labels = df['label'].map(label_mapping).tolist()  # Adjust 'label' based on your CSV\n",
    "labels = keras.utils.to_categorical(labels, num_classes)\n"
   ]
  },
  {
   "cell_type": "code",
   "execution_count": 28,
   "id": "3847ef0f-07bd-455d-ae00-0849b894c470",
   "metadata": {
    "tags": []
   },
   "outputs": [
    {
     "name": "stdout",
     "output_type": "stream",
     "text": [
      "(3410, 62)\n",
      "(3410, 28, 28)\n"
     ]
    }
   ],
   "source": [
    "print(labels.shape)\n",
    "print(images.shape)"
   ]
  },
  {
   "cell_type": "code",
   "execution_count": 54,
   "id": "eafbbdfa-2039-4fc3-9633-b84217db2a95",
   "metadata": {
    "tags": []
   },
   "outputs": [
    {
     "data": {
      "image/png": "[encoded data removed]",
      "text/plain": [
       "<Figure size 1000x1000 with 10 Axes>"
      ]
     },
     "metadata": {},
     "output_type": "display_data"
    }
   ],
   "source": [
    "# Select random sample of image filenames\n",
    "sample_filenames = np.random.choice(filenames, 10)\n",
    "\n",
    "plt.figure(figsize=(10, 10))\n",
    "for i, filename in enumerate(sample_filenames):\n",
    "    # Create the full path to the image file\n",
    "    img_path = os.path.join(image_folder, filename)\n",
    "    \n",
    "    # Load the image\n",
    "    img = Image.open(img_path).convert('L')  # Convert to grayscale\n",
    "    img = img.resize(image_size)  # Resize image\n",
    "    \n",
    "    # Plot the image\n",
    "#    plt.figure(dpi=100)\n",
    "    plt.subplot(4, 3, i+1)  # Create a subplot for each image\n",
    "    plt.imshow(img, cmap='gray', aspect='auto')  \n",
    "    plt.axis('off')  # Turn off axis labels\n",
    "    plt.title('Sample {}'.format(i+1))  # Set the title for each image\n",
    "\n",
    "plt.show()  # Display the plot\n",
    "\n",
    "\n",
    "\n",
    "# NOTE: IMAGE QUALITY WENT DOWN (can try changing dpi above)!"
   ]
  },
  {
   "cell_type": "code",
   "execution_count": null,
   "id": "75e56f98-de2c-44c6-aafd-3f81cb77fc19",
   "metadata": {},
   "outputs": [],
   "source": []
  },
  {
   "cell_type": "code",
   "execution_count": null,
   "id": "1af917b0-444b-423e-8b48-01455d36efce",
   "metadata": {},
   "outputs": [],
   "source": []
  },
  {
   "cell_type": "code",
   "execution_count": null,
   "id": "317c9c5a-32ce-45b6-90eb-3861a9b4cbbd",
   "metadata": {},
   "outputs": [],
   "source": []
  },
  {
   "cell_type": "code",
   "execution_count": null,
   "id": "0c43db79-1516-4049-8d9f-7e9240561a8b",
   "metadata": {},
   "outputs": [],
   "source": []
  },
  {
   "cell_type": "code",
   "execution_count": null,
   "id": "d3c40198-d80c-4da9-9a30-6eebd1b2aff9",
   "metadata": {},
   "outputs": [],
   "source": []
  },
  {
   "cell_type": "code",
   "execution_count": 5,
   "id": "ff7b785e-e182-45a2-b445-09169e6eb131",
   "metadata": {},
   "outputs": [],
   "source": [
    "# Split the data\n",
    "X_train, X_test, y_train, y_test = train_test_split(images, labels, test_size=0.2)\n",
    "X_train, X_val, y_train, y_val = train_test_split(X_train, y_train, test_size=0.1)\n",
    "\n",
    "# Assuming your original images have shape (28, 28)\n",
    "# Reshape the images to have a channels dimension\n",
    "X_train = X_train.reshape((-1, 28, 28, 1))  # Add the channel dimension\n",
    "X_val = X_val.reshape((-1, 28, 28, 1))\n",
    "X_test = X_test.reshape((-1, 28, 28, 1))"
   ]
  },
  {
   "cell_type": "code",
   "execution_count": 6,
   "id": "3a7632f3-c49f-4086-a044-da058a73bb0b",
   "metadata": {},
   "outputs": [
    {
     "data": {
      "text/plain": [
       "array([[[[1.],\n",
       "         [1.],\n",
       "         [1.],\n",
       "         ...,\n",
       "         [1.],\n",
       "         [1.],\n",
       "         [1.]],\n",
       "\n",
       "        [[1.],\n",
       "         [1.],\n",
       "         [1.],\n",
       "         ...,\n",
       "         [1.],\n",
       "         [1.],\n",
       "         [1.]],\n",
       "\n",
       "        [[1.],\n",
       "         [1.],\n",
       "         [1.],\n",
       "         ...,\n",
       "         [1.],\n",
       "         [1.],\n",
       "         [1.]],\n",
       "\n",
       "        ...,\n",
       "\n",
       "        [[1.],\n",
       "         [1.],\n",
       "         [1.],\n",
       "         ...,\n",
       "         [1.],\n",
       "         [1.],\n",
       "         [1.]],\n",
       "\n",
       "        [[1.],\n",
       "         [1.],\n",
       "         [1.],\n",
       "         ...,\n",
       "         [1.],\n",
       "         [1.],\n",
       "         [1.]],\n",
       "\n",
       "        [[1.],\n",
       "         [1.],\n",
       "         [1.],\n",
       "         ...,\n",
       "         [1.],\n",
       "         [1.],\n",
       "         [1.]]],\n",
       "\n",
       "\n",
       "       [[[1.],\n",
       "         [1.],\n",
       "         [1.],\n",
       "         ...,\n",
       "         [1.],\n",
       "         [1.],\n",
       "         [1.]],\n",
       "\n",
       "        [[1.],\n",
       "         [1.],\n",
       "         [1.],\n",
       "         ...,\n",
       "         [1.],\n",
       "         [1.],\n",
       "         [1.]],\n",
       "\n",
       "        [[1.],\n",
       "         [1.],\n",
       "         [1.],\n",
       "         ...,\n",
       "         [1.],\n",
       "         [1.],\n",
       "         [1.]],\n",
       "\n",
       "        ...,\n",
       "\n",
       "        [[1.],\n",
       "         [1.],\n",
       "         [1.],\n",
       "         ...,\n",
       "         [1.],\n",
       "         [1.],\n",
       "         [1.]],\n",
       "\n",
       "        [[1.],\n",
       "         [1.],\n",
       "         [1.],\n",
       "         ...,\n",
       "         [1.],\n",
       "         [1.],\n",
       "         [1.]],\n",
       "\n",
       "        [[1.],\n",
       "         [1.],\n",
       "         [1.],\n",
       "         ...,\n",
       "         [1.],\n",
       "         [1.],\n",
       "         [1.]]]])"
      ]
     },
     "execution_count": 6,
     "metadata": {},
     "output_type": "execute_result"
    }
   ],
   "source": [
    "X_train[0:2]\n"
   ]
  },
  {
   "cell_type": "code",
   "execution_count": 7,
   "id": "07bd32de-6120-409a-8457-526723a3945e",
   "metadata": {},
   "outputs": [],
   "source": [
    "# Restart here\n"
   ]
  },
  {
   "cell_type": "code",
   "execution_count": 8,
   "id": "7a31a1f6-b893-4de3-ac0b-233533ec1fff",
   "metadata": {},
   "outputs": [],
   "source": [
    "# Define the Model for Hyperparameter Tuning\n",
    "\n",
    "def build_model(hp):\n",
    "    model = Sequential()\n",
    "    \n",
    "    # First Convolutional Layer\n",
    "    model.add(Conv2D(filters=hp.Int('conv_1_filter', min_value=32, max_value=128, step=16),\n",
    "                     kernel_size=hp.Choice('conv_1_kernel', values=[3, 5]),\n",
    "                     activation='relu',\n",
    "                     input_shape=(28, 28, 1)))\n",
    "    model.add(MaxPooling2D(pool_size=(2, 2)))\n",
    "\n",
    "    # Second Convolutional Layer\n",
    "    model.add(Conv2D(filters=hp.Int('conv_2_filter', min_value=32, max_value=64, step=16),\n",
    "                     kernel_size=hp.Choice('conv_2_kernel', values=[3, 5]),\n",
    "                     activation='relu'))\n",
    "    model.add(MaxPooling2D(pool_size=(2, 2)))\n",
    "\n",
    "    # Flatten and Dense Layers\n",
    "    model.add(Flatten())\n",
    "    model.add(Dense(units=hp.Int('dense_units', min_value=32, max_value=128, step=32),\n",
    "                    activation='relu'))\n",
    "\n",
    "    # Output Layer\n",
    "    model.add(Dense(62, activation='softmax'))  # 62 classes\n",
    "\n",
    "    return model\n"
   ]
  },
  {
   "cell_type": "code",
   "execution_count": 9,
   "id": "55256caa-1122-494d-92ef-3e36e52b676c",
   "metadata": {},
   "outputs": [],
   "source": [
    "\n",
    "\n",
    "datagen = ImageDataGenerator(\n",
    "    rotation_range=10,    # Rotate the image within 10 degrees range\n",
    "    width_shift_range=0.10,  # Shift the pic width by a max of 10% of the width\n",
    "    height_shift_range=0.10,  # Shift the pic height by a max of 10% of the height\n",
    "    shear_range=0.10,     # Shear means cutting away part of the image (max 10%)\n",
    "    zoom_range=0.10,      # Zoom in by 10% max\n",
    "    horizontal_flip=False,  # Flipping might not be a good idea for character recognition\n",
    "    fill_mode='nearest'   # Fill in missing pixels with the nearest filled value\n",
    ")\n"
   ]
  },
  {
   "cell_type": "code",
   "execution_count": 10,
   "id": "6b27092e-d721-4748-9ed4-920166640060",
   "metadata": {},
   "outputs": [
    {
     "name": "stdout",
     "output_type": "stream",
     "text": [
      "Reloading Tuner from keras_tuner_dir\\character_recognition\\tuner0.json\n"
     ]
    }
   ],
   "source": [
    "# Keras Tuner for Hyperparameter Optimization\n",
    "\n",
    "tuner = Hyperband(\n",
    "    build_model,\n",
    "    objective='val_accuracy',\n",
    "    max_epochs=10,\n",
    "    directory='keras_tuner_dir',\n",
    "    project_name='character_recognition'\n",
    ")\n",
    "\n",
    "# Early Stopping Callback\n",
    "early_stopping = tf.keras.callbacks.EarlyStopping(monitor='val_loss',\n",
    "                                                  patience=7)\n",
    "\n",
    "# Search for the best hyperparameters\n",
    "tuner.search(X_train, \n",
    "             y_train,\n",
    "             epochs=100,\n",
    "             validation_data=(X_val, y_val),\n",
    "             callbacks=[early_stopping])\n"
   ]
  },
  {
   "cell_type": "code",
   "execution_count": 11,
   "id": "271979c6-3ff1-409a-bb81-5cdb8457f936",
   "metadata": {
    "tags": []
   },
   "outputs": [
    {
     "name": "stdout",
     "output_type": "stream",
     "text": [
      "WARNING:tensorflow:From C:\\ProgramData\\anaconda3\\Lib\\site-packages\\keras\\src\\backend.py:873: The name tf.get_default_graph is deprecated. Please use tf.compat.v1.get_default_graph instead.\n",
      "\n",
      "WARNING:tensorflow:From C:\\ProgramData\\anaconda3\\Lib\\site-packages\\keras\\src\\layers\\pooling\\max_pooling2d.py:161: The name tf.nn.max_pool is deprecated. Please use tf.nn.max_pool2d instead.\n",
      "\n"
     ]
    }
   ],
   "source": [
    "# Get the best model\n",
    "best_hp = tuner.get_best_hyperparameters()[0]\n",
    "best_model = build_model(best_hp)\n"
   ]
  },
  {
   "cell_type": "code",
   "execution_count": 12,
   "id": "8c00a0a9-0b0c-4eae-b5ef-c197e9a58f44",
   "metadata": {},
   "outputs": [],
   "source": [
    "# TensorBoard Setup\n",
    "\n",
    "log_dir = \"logs/fit/\" + datetime.datetime.now().strftime(\"%Y%m%d-%H%M%S\")\n",
    "tensorboard_callback = tf.keras.callbacks.TensorBoard(log_dir=\"./logs\")\n",
    "\n"
   ]
  },
  {
   "cell_type": "code",
   "execution_count": null,
   "id": "0c9d3491-5b72-4028-97fe-3467cefd9e8a",
   "metadata": {},
   "outputs": [
    {
     "name": "stdout",
     "output_type": "stream",
     "text": [
      "Epoch 1/100\n",
      "WARNING:tensorflow:From C:\\ProgramData\\anaconda3\\Lib\\site-packages\\keras\\src\\utils\\tf_utils.py:492: The name tf.ragged.RaggedTensorValue is deprecated. Please use tf.compat.v1.ragged.RaggedTensorValue instead.\n",
      "\n",
      "WARNING:tensorflow:From C:\\ProgramData\\anaconda3\\Lib\\site-packages\\keras\\src\\engine\\base_layer_utils.py:384: The name tf.executing_eagerly_outside_functions is deprecated. Please use tf.compat.v1.executing_eagerly_outside_functions instead.\n",
      "\n",
      "76/76 [==============================] - 2s 15ms/step - loss: 4.1310 - accuracy: 0.0130 - val_loss: 4.1286 - val_accuracy: 0.0073\n",
      "Epoch 2/100\n",
      "76/76 [==============================] - 1s 13ms/step - loss: 4.1284 - accuracy: 0.0151 - val_loss: 4.1281 - val_accuracy: 0.0256\n",
      "Epoch 3/100\n",
      "76/76 [==============================] - 1s 13ms/step - loss: 4.1184 - accuracy: 0.0212 - val_loss: 4.0990 - val_accuracy: 0.0147\n",
      "Epoch 4/100\n",
      "76/76 [==============================] - 1s 12ms/step - loss: 3.9914 - accuracy: 0.0578 - val_loss: 3.6404 - val_accuracy: 0.0952\n",
      "Epoch 5/100\n",
      "76/76 [==============================] - 1s 13ms/step - loss: 3.5737 - accuracy: 0.1141 - val_loss: 2.7421 - val_accuracy: 0.2857\n",
      "Epoch 6/100\n",
      "76/76 [==============================] - 1s 13ms/step - loss: 2.9972 - accuracy: 0.2114 - val_loss: 2.3763 - val_accuracy: 0.3333\n",
      "Epoch 7/100\n",
      "76/76 [==============================] - 1s 13ms/step - loss: 2.4977 - accuracy: 0.3218 - val_loss: 1.9706 - val_accuracy: 0.4359\n",
      "Epoch 8/100\n",
      "76/76 [==============================] - 1s 12ms/step - loss: 2.1154 - accuracy: 0.4033 - val_loss: 1.4555 - val_accuracy: 0.5641\n",
      "Epoch 9/100\n",
      "16/76 [=====>........................] - ETA: 0s - loss: 1.8503 - accuracy: 0.4672"
     ]
    }
   ],
   "source": [
    "# Compile the model\n",
    "\n",
    "from tensorflow.keras.optimizers import SGD\n",
    "from tensorflow.keras.optimizers import RMSprop\n",
    "from tensorflow.keras.optimizers import Adadelta\n",
    "from tensorflow.keras.optimizers import Adagrad\n",
    "from tensorflow.keras.optimizers import Nadam\n",
    "\n",
    "\n",
    "final_epochs = 100  # Set the number of epochs for final training\n",
    "best_model.compile(optimizer = Adadelta(rho=0.97, \n",
    "                                        epsilon=1e-07, \n",
    "                                        learning_rate=0.98), \n",
    "                   loss='categorical_crossentropy',\n",
    "                   metrics=['accuracy'])\n",
    "\n",
    "\n",
    "history = best_model.fit(\n",
    "    datagen.flow(X_train, \n",
    "                 y_train, \n",
    "                 batch_size=32),\n",
    "    steps_per_epoch=len(X_train) / 32,\n",
    "    epochs=final_epochs,  # The maximum number of epochs\n",
    "    validation_data=(X_val, y_val),\n",
    "    callbacks=[early_stopping, tensorboard_callback]  # Add other callbacks if necessary\n",
    ")\n"
   ]
  },
  {
   "cell_type": "code",
   "execution_count": null,
   "id": "13a9e54c-3a08-455e-8aa7-5314c07bdf11",
   "metadata": {},
   "outputs": [],
   "source": [
    "# Plot the training history\n",
    "\n",
    "# Plot training & validation accuracy values\n",
    "plt.figure(figsize=(12, 4))\n",
    "plt.subplot(1, 2, 1)\n",
    "plt.plot(history.history['accuracy'])\n",
    "plt.plot(history.history['val_accuracy'])\n",
    "plt.title('Model Accuracy')\n",
    "plt.ylabel('Accuracy')\n",
    "plt.xlabel('Epoch')\n",
    "plt.legend(['Train', 'Val'], loc='upper left')\n",
    "\n",
    "# Plot training & validation loss values\n",
    "plt.subplot(1, 2, 2)\n",
    "plt.plot(history.history['loss'])\n",
    "plt.plot(history.history['val_loss'])\n",
    "plt.title('Model Loss')\n",
    "plt.ylabel('Loss')\n",
    "plt.xlabel('Epoch')\n",
    "plt.legend(['Train', 'Val'], loc='upper left')\n",
    "\n",
    "plt.show()\n"
   ]
  },
  {
   "cell_type": "code",
   "execution_count": null,
   "id": "b75de826-4bb5-44c1-b6fc-ff88454a6812",
   "metadata": {},
   "outputs": [],
   "source": [
    "# Evaluate the model\n",
    "loss, accuracy = best_model.evaluate(X_test, y_test)\n",
    "print(f\"Test Accuracy: {accuracy*100:.2f}%\")\n"
   ]
  },
  {
   "cell_type": "code",
   "execution_count": null,
   "id": "e18ec3e1-83e8-4a09-b16c-8193fa8c5fa1",
   "metadata": {},
   "outputs": [],
   "source": [
    "# Saving and Loading the Model\n",
    "\n",
    "# Save the model\n",
    "best_model.save('character_recognition_model.h5')\n",
    "\n",
    "# To load the model\n",
    "loaded_model = tf.keras.models.load_model('character_recognition_model.h5')\n"
   ]
  },
  {
   "cell_type": "code",
   "execution_count": null,
   "id": "8f6031c9-4f39-4fb2-8883-5b6d11aa61af",
   "metadata": {},
   "outputs": [],
   "source": []
  },
  {
   "cell_type": "code",
   "execution_count": null,
   "id": "98ef1343-5d6e-42c7-aebf-b50381a8b6ef",
   "metadata": {},
   "outputs": [],
   "source": []
  }
 ],
 "metadata": {
  "kernelspec": {
   "display_name": "Python 3 (ipykernel)",
   "language": "python",
   "name": "python3"
  },
  "language_info": {
   "codemirror_mode": {
    "name": "ipython",
    "version": 3
   },
   "file_extension": ".py",
   "mimetype": "text/x-python",
   "name": "python",
   "nbconvert_exporter": "python",
   "pygments_lexer": "ipython3",
   "version": "3.11.5"
  }
 },
 "nbformat": 4,
 "nbformat_minor": 5
}
