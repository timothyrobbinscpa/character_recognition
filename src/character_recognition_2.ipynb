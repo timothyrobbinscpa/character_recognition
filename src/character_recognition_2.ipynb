{
 "cells": [
  {
   "cell_type": "markdown",
   "id": "8251d355-7a3a-4caa-8ed5-4c06bd120926",
   "metadata": {},
   "source": [
    "https://www.kaggle.com/datasets/dhruvildave/english-handwritten-characters-dataset"
   ]
  },
  {
   "cell_type": "code",
   "execution_count": null,
   "id": "958dd319-e5ff-4b24-aabd-f6abf0de2224",
   "metadata": {},
   "outputs": [],
   "source": []
  },
  {
   "cell_type": "code",
   "execution_count": 2,
   "id": "938b08dd-0c6f-42c2-b822-550755ecc1c3",
   "metadata": {
    "tags": []
   },
   "outputs": [
    {
     "name": "stdout",
     "output_type": "stream",
     "text": [
      "WARNING:tensorflow:From C:\\users\\trobb\\anaconda3\\Lib\\site-packages\\keras\\src\\losses.py:2976: The name tf.losses.sparse_softmax_cross_entropy is deprecated. Please use tf.compat.v1.losses.sparse_softmax_cross_entropy instead.\n",
      "\n"
     ]
    }
   ],
   "source": [
    "# Import Necessary Libraries\n",
    "\n",
    "import tensorflow as tf\n",
    "from tensorflow import keras\n",
    "from keras_tuner import HyperModel, Hyperband\n",
    "from sklearn.model_selection import train_test_split\n",
    "import numpy as np\n",
    "import pandas as pd\n",
    "from PIL import Image\n",
    "import os\n",
    "from keras_tuner.tuners import Hyperband\n",
    "from tensorflow.keras.models import Sequential\n",
    "from tensorflow.keras.layers import Conv2D, MaxPooling2D, Flatten, Dense\n",
    "from tensorflow.keras.optimizers import Adam\n",
    "import matplotlib.pyplot as plt\n",
    "import random as python_random\n",
    "import datetime\n",
    "from tensorflow.keras.preprocessing.image import ImageDataGenerator\n",
    "from keras.preprocessing.image import load_img\n",
    "\n",
    "np.random.seed(33)\n",
    "python_random.seed(33)\n",
    "tf.random.set_seed(33)\n"
   ]
  },
  {
   "cell_type": "code",
   "execution_count": 3,
   "id": "86f6850b-a77f-47be-8621-0bac64d8635d",
   "metadata": {
    "tags": []
   },
   "outputs": [],
   "source": [
    "# Load and Preprocess the Data\n",
    "\n",
    "# Load the CSV with labels\n",
    "label_file = '../data/english.csv'  # Update this path\n",
    "df = pd.read_csv(label_file)\n",
    "\n",
    "# Prepare image data\n",
    "def load_images(image_folder, filenames, image_size):\n",
    "    images = []\n",
    "    for file in filenames:\n",
    "        img_path = os.path.join(image_folder, file)\n",
    "        img = Image.open(img_path).convert('L')  # Convert to grayscale\n",
    "        img = img.resize(image_size)\n",
    "        img_array = np.array(img)\n",
    "        images.append(img_array)\n",
    "    images = np.array(images) / 255.0  # Normalize images\n",
    "    return images\n",
    "\n",
    "# Update with your image folder path and image size\n",
    "image_folder = '../data/'\n",
    "image_size = (28, 28)  # Example size, adjust to your data\n",
    "filenames = df['image'].tolist()  # Adjust 'filename' based on your CSV\n",
    "images = load_images(image_folder, filenames, image_size)\n",
    "\n",
    "# Prepare labels\n",
    "num_classes = 62  # Update based on your dataset\n",
    "\n",
    "# Create a mapping for the labels\n",
    "label_mapping = {chr(i): i - 48 for i in range(48, 58)}  # '0'-'9', 0-9\n",
    "label_mapping.update({chr(i): i - 65 + 10 for i in range(65, 91)})  # 'A'-'Z', 10-35\n",
    "label_mapping.update({chr(i): i - 97 + 36 for i in range(97, 123)})  # 'a'-'z', 36-61\n",
    "\n",
    "# Map the labels to integers\n",
    "labels = df['label'].map(label_mapping).tolist()  # Adjust 'label' based on your CSV\n",
    "labels = keras.utils.to_categorical(labels, num_classes)\n"
   ]
  },
  {
   "cell_type": "code",
   "execution_count": 4,
   "id": "3847ef0f-07bd-455d-ae00-0849b894c470",
   "metadata": {
    "tags": []
   },
   "outputs": [
    {
     "name": "stdout",
     "output_type": "stream",
     "text": [
      "(3410, 62)\n",
      "(3410, 28, 28)\n"
     ]
    }
   ],
   "source": [
    "print(labels.shape)\n",
    "print(images.shape)"
   ]
  },
  {
   "cell_type": "code",
   "execution_count": 5,
   "id": "eafbbdfa-2039-4fc3-9633-b84217db2a95",
   "metadata": {
    "tags": []
   },
   "outputs": [
    {
     "data": {
      "image/png": "[encoded data removed]",
      "text/plain": [
       "<Figure size 1000x1000 with 10 Axes>"
      ]
     },
     "metadata": {},
     "output_type": "display_data"
    }
   ],
   "source": [
    "# Select random sample of image filenames\n",
    "sample_filenames = np.random.choice(filenames, 10)\n",
    "\n",
    "plt.figure(figsize=(10, 10))\n",
    "for i, filename in enumerate(sample_filenames):\n",
    "    # Create the full path to the image file\n",
    "    img_path = os.path.join(image_folder, filename)\n",
    "    \n",
    "    # Load the image\n",
    "    img = Image.open(img_path).convert('L')  # Convert to grayscale\n",
    "    img = img.resize(image_size)  # Resize image\n",
    "    \n",
    "    # Plot the image\n",
    "#    plt.figure(dpi=100)\n",
    "    plt.subplot(4, 3, i+1)  # Create a subplot for each image\n",
    "    plt.imshow(img, cmap='gray', aspect='auto')  \n",
    "    plt.axis('off')  # Turn off axis labels\n",
    "    plt.title('Sample {}'.format(i+1))  # Set the title for each image\n",
    "\n",
    "plt.show()  # Display the plot\n",
    "\n",
    "\n",
    "\n",
    "# NOTE: IMAGE QUALITY WENT DOWN (can try changing dpi above)!"
   ]
  },
  {
   "cell_type": "code",
   "execution_count": null,
   "id": "75e56f98-de2c-44c6-aafd-3f81cb77fc19",
   "metadata": {},
   "outputs": [],
   "source": []
  },
  {
   "cell_type": "code",
   "execution_count": null,
   "id": "1af917b0-444b-423e-8b48-01455d36efce",
   "metadata": {},
   "outputs": [],
   "source": []
  },
  {
   "cell_type": "code",
   "execution_count": null,
   "id": "317c9c5a-32ce-45b6-90eb-3861a9b4cbbd",
   "metadata": {},
   "outputs": [],
   "source": []
  },
  {
   "cell_type": "code",
   "execution_count": null,
   "id": "0c43db79-1516-4049-8d9f-7e9240561a8b",
   "metadata": {},
   "outputs": [],
   "source": []
  },
  {
   "cell_type": "code",
   "execution_count": null,
   "id": "d3c40198-d80c-4da9-9a30-6eebd1b2aff9",
   "metadata": {},
   "outputs": [],
   "source": []
  },
  {
   "cell_type": "code",
   "execution_count": 6,
   "id": "ff7b785e-e182-45a2-b445-09169e6eb131",
   "metadata": {},
   "outputs": [],
   "source": [
    "# Split the data\n",
    "X_train, X_test, y_train, y_test = train_test_split(images, labels, test_size=0.2)\n",
    "X_train, X_val, y_train, y_val = train_test_split(X_train, y_train, test_size=0.1)\n",
    "\n",
    "# Assuming your original images have shape (28, 28)\n",
    "# Reshape the images to have a channels dimension\n",
    "X_train = X_train.reshape((-1, 28, 28, 1))  # Add the channel dimension\n",
    "X_val = X_val.reshape((-1, 28, 28, 1))\n",
    "X_test = X_test.reshape((-1, 28, 28, 1))"
   ]
  },
  {
   "cell_type": "code",
   "execution_count": 7,
   "id": "3a7632f3-c49f-4086-a044-da058a73bb0b",
   "metadata": {},
   "outputs": [
    {
     "data": {
      "text/plain": [
       "array([[[[1.],\n",
       "         [1.],\n",
       "         [1.],\n",
       "         ...,\n",
       "         [1.],\n",
       "         [1.],\n",
       "         [1.]],\n",
       "\n",
       "        [[1.],\n",
       "         [1.],\n",
       "         [1.],\n",
       "         ...,\n",
       "         [1.],\n",
       "         [1.],\n",
       "         [1.]],\n",
       "\n",
       "        [[1.],\n",
       "         [1.],\n",
       "         [1.],\n",
       "         ...,\n",
       "         [1.],\n",
       "         [1.],\n",
       "         [1.]],\n",
       "\n",
       "        ...,\n",
       "\n",
       "        [[1.],\n",
       "         [1.],\n",
       "         [1.],\n",
       "         ...,\n",
       "         [1.],\n",
       "         [1.],\n",
       "         [1.]],\n",
       "\n",
       "        [[1.],\n",
       "         [1.],\n",
       "         [1.],\n",
       "         ...,\n",
       "         [1.],\n",
       "         [1.],\n",
       "         [1.]],\n",
       "\n",
       "        [[1.],\n",
       "         [1.],\n",
       "         [1.],\n",
       "         ...,\n",
       "         [1.],\n",
       "         [1.],\n",
       "         [1.]]],\n",
       "\n",
       "\n",
       "       [[[1.],\n",
       "         [1.],\n",
       "         [1.],\n",
       "         ...,\n",
       "         [1.],\n",
       "         [1.],\n",
       "         [1.]],\n",
       "\n",
       "        [[1.],\n",
       "         [1.],\n",
       "         [1.],\n",
       "         ...,\n",
       "         [1.],\n",
       "         [1.],\n",
       "         [1.]],\n",
       "\n",
       "        [[1.],\n",
       "         [1.],\n",
       "         [1.],\n",
       "         ...,\n",
       "         [1.],\n",
       "         [1.],\n",
       "         [1.]],\n",
       "\n",
       "        ...,\n",
       "\n",
       "        [[1.],\n",
       "         [1.],\n",
       "         [1.],\n",
       "         ...,\n",
       "         [1.],\n",
       "         [1.],\n",
       "         [1.]],\n",
       "\n",
       "        [[1.],\n",
       "         [1.],\n",
       "         [1.],\n",
       "         ...,\n",
       "         [1.],\n",
       "         [1.],\n",
       "         [1.]],\n",
       "\n",
       "        [[1.],\n",
       "         [1.],\n",
       "         [1.],\n",
       "         ...,\n",
       "         [1.],\n",
       "         [1.],\n",
       "         [1.]]]])"
      ]
     },
     "execution_count": 7,
     "metadata": {},
     "output_type": "execute_result"
    }
   ],
   "source": [
    "X_train[0:2]\n"
   ]
  },
  {
   "cell_type": "code",
   "execution_count": 8,
   "id": "07bd32de-6120-409a-8457-526723a3945e",
   "metadata": {},
   "outputs": [],
   "source": [
    "# Restart here\n"
   ]
  },
  {
   "cell_type": "code",
   "execution_count": 9,
   "id": "7a31a1f6-b893-4de3-ac0b-233533ec1fff",
   "metadata": {},
   "outputs": [],
   "source": [
    "# Define the Model for Hyperparameter Tuning\n",
    "\n",
    "def build_model(hp):\n",
    "    model = Sequential()\n",
    "    \n",
    "    # First Convolutional Layer\n",
    "    model.add(Conv2D(filters=hp.Int('conv_1_filter', min_value=32, max_value=128, step=16),\n",
    "                     kernel_size=hp.Choice('conv_1_kernel', values=[3, 5]),\n",
    "                     activation='relu',\n",
    "                     input_shape=(28, 28, 1)))\n",
    "    model.add(MaxPooling2D(pool_size=(2, 2)))\n",
    "\n",
    "    # Second Convolutional Layer\n",
    "    model.add(Conv2D(filters=hp.Int('conv_2_filter', min_value=32, max_value=64, step=16),\n",
    "                     kernel_size=hp.Choice('conv_2_kernel', values=[3, 5]),\n",
    "                     activation='relu'))\n",
    "    model.add(MaxPooling2D(pool_size=(2, 2)))\n",
    "\n",
    "    # Flatten and Dense Layers\n",
    "    model.add(Flatten())\n",
    "    model.add(Dense(units=hp.Int('dense_units', min_value=32, max_value=128, step=32),\n",
    "                    activation='relu'))\n",
    "\n",
    "    # Output Layer\n",
    "    model.add(Dense(62, activation='softmax'))  # 62 classes\n",
    "\n",
    "    return model\n"
   ]
  },
  {
   "cell_type": "code",
   "execution_count": 10,
   "id": "55256caa-1122-494d-92ef-3e36e52b676c",
   "metadata": {},
   "outputs": [],
   "source": [
    "\n",
    "\n",
    "datagen = ImageDataGenerator(\n",
    "    rotation_range=10,    # Rotate the image within 10 degrees range\n",
    "    width_shift_range=0.10,  # Shift the pic width by a max of 10% of the width\n",
    "    height_shift_range=0.10,  # Shift the pic height by a max of 10% of the height\n",
    "    shear_range=0.10,     # Shear means cutting away part of the image (max 10%)\n",
    "    zoom_range=0.10,      # Zoom in by 10% max\n",
    "    horizontal_flip=False,  # Flipping might not be a good idea for character recognition\n",
    "    fill_mode='nearest'   # Fill in missing pixels with the nearest filled value\n",
    ")\n"
   ]
  },
  {
   "cell_type": "code",
   "execution_count": 11,
   "id": "6b27092e-d721-4748-9ed4-920166640060",
   "metadata": {},
   "outputs": [
    {
     "name": "stdout",
     "output_type": "stream",
     "text": [
      "Reloading Tuner from keras_tuner_dir\\character_recognition\\tuner0.json\n",
      "\n",
      "Search: Running Trial #3\n",
      "\n",
      "Value             |Best Value So Far |Hyperparameter\n",
      "96                |96                |conv_1_filter\n",
      "3                 |3                 |conv_1_kernel\n",
      "48                |48                |conv_2_filter\n",
      "5                 |5                 |conv_2_kernel\n",
      "64                |64                |dense_units\n",
      "2                 |2                 |tuner/epochs\n",
      "0                 |0                 |tuner/initial_epoch\n",
      "2                 |2                 |tuner/bracket\n",
      "0                 |0                 |tuner/round\n",
      "\n",
      "WARNING:tensorflow:From C:\\users\\trobb\\anaconda3\\Lib\\site-packages\\keras\\src\\backend.py:277: The name tf.reset_default_graph is deprecated. Please use tf.compat.v1.reset_default_graph instead.\n",
      "\n",
      "WARNING:tensorflow:From C:\\users\\trobb\\anaconda3\\Lib\\site-packages\\keras\\src\\layers\\pooling\\max_pooling2d.py:161: The name tf.nn.max_pool is deprecated. Please use tf.nn.max_pool2d instead.\n",
      "\n"
     ]
    },
    {
     "name": "stderr",
     "output_type": "stream",
     "text": [
      "Traceback (most recent call last):\n",
      "  File \"C:\\users\\trobb\\anaconda3\\Lib\\site-packages\\keras_tuner\\src\\engine\\base_tuner.py\", line 273, in _try_run_and_update_trial\n",
      "    self._run_and_update_trial(trial, *fit_args, **fit_kwargs)\n",
      "  File \"C:\\users\\trobb\\anaconda3\\Lib\\site-packages\\keras_tuner\\src\\engine\\base_tuner.py\", line 238, in _run_and_update_trial\n",
      "    results = self.run_trial(trial, *fit_args, **fit_kwargs)\n",
      "              ^^^^^^^^^^^^^^^^^^^^^^^^^^^^^^^^^^^^^^^^^^^^^^\n",
      "  File \"C:\\users\\trobb\\anaconda3\\Lib\\site-packages\\keras_tuner\\src\\tuners\\hyperband.py\", line 427, in run_trial\n",
      "    return super().run_trial(trial, *fit_args, **fit_kwargs)\n",
      "           ^^^^^^^^^^^^^^^^^^^^^^^^^^^^^^^^^^^^^^^^^^^^^^^^^\n",
      "  File \"C:\\users\\trobb\\anaconda3\\Lib\\site-packages\\keras_tuner\\src\\engine\\tuner.py\", line 314, in run_trial\n",
      "    obj_value = self._build_and_fit_model(trial, *args, **copied_kwargs)\n",
      "                ^^^^^^^^^^^^^^^^^^^^^^^^^^^^^^^^^^^^^^^^^^^^^^^^^^^^^^^^\n",
      "  File \"C:\\users\\trobb\\anaconda3\\Lib\\site-packages\\keras_tuner\\src\\engine\\tuner.py\", line 233, in _build_and_fit_model\n",
      "    results = self.hypermodel.fit(hp, model, *args, **kwargs)\n",
      "              ^^^^^^^^^^^^^^^^^^^^^^^^^^^^^^^^^^^^^^^^^^^^^^^\n",
      "  File \"C:\\users\\trobb\\anaconda3\\Lib\\site-packages\\keras_tuner\\src\\engine\\hypermodel.py\", line 149, in fit\n",
      "    return model.fit(*args, **kwargs)\n",
      "           ^^^^^^^^^^^^^^^^^^^^^^^^^^\n",
      "  File \"C:\\users\\trobb\\anaconda3\\Lib\\site-packages\\keras\\src\\utils\\traceback_utils.py\", line 70, in error_handler\n",
      "    raise e.with_traceback(filtered_tb) from None\n",
      "  File \"C:\\users\\trobb\\anaconda3\\Lib\\site-packages\\keras\\src\\engine\\training.py\", line 3983, in _assert_compile_was_called\n",
      "    raise RuntimeError(\n",
      "RuntimeError: You must compile your model before training/testing. Use `model.compile(optimizer, loss)`.\n"
     ]
    },
    {
     "ename": "RuntimeError",
     "evalue": "Number of consecutive failures exceeded the limit of 3.\nTraceback (most recent call last):\n  File \"C:\\users\\trobb\\anaconda3\\Lib\\site-packages\\keras_tuner\\src\\engine\\base_tuner.py\", line 273, in _try_run_and_update_trial\n    self._run_and_update_trial(trial, *fit_args, **fit_kwargs)\n  File \"C:\\users\\trobb\\anaconda3\\Lib\\site-packages\\keras_tuner\\src\\engine\\base_tuner.py\", line 238, in _run_and_update_trial\n    results = self.run_trial(trial, *fit_args, **fit_kwargs)\n              ^^^^^^^^^^^^^^^^^^^^^^^^^^^^^^^^^^^^^^^^^^^^^^\n  File \"C:\\users\\trobb\\anaconda3\\Lib\\site-packages\\keras_tuner\\src\\tuners\\hyperband.py\", line 427, in run_trial\n    return super().run_trial(trial, *fit_args, **fit_kwargs)\n           ^^^^^^^^^^^^^^^^^^^^^^^^^^^^^^^^^^^^^^^^^^^^^^^^^\n  File \"C:\\users\\trobb\\anaconda3\\Lib\\site-packages\\keras_tuner\\src\\engine\\tuner.py\", line 314, in run_trial\n    obj_value = self._build_and_fit_model(trial, *args, **copied_kwargs)\n                ^^^^^^^^^^^^^^^^^^^^^^^^^^^^^^^^^^^^^^^^^^^^^^^^^^^^^^^^\n  File \"C:\\users\\trobb\\anaconda3\\Lib\\site-packages\\keras_tuner\\src\\engine\\tuner.py\", line 233, in _build_and_fit_model\n    results = self.hypermodel.fit(hp, model, *args, **kwargs)\n              ^^^^^^^^^^^^^^^^^^^^^^^^^^^^^^^^^^^^^^^^^^^^^^^\n  File \"C:\\users\\trobb\\anaconda3\\Lib\\site-packages\\keras_tuner\\src\\engine\\hypermodel.py\", line 149, in fit\n    return model.fit(*args, **kwargs)\n           ^^^^^^^^^^^^^^^^^^^^^^^^^^\n  File \"C:\\users\\trobb\\anaconda3\\Lib\\site-packages\\keras\\src\\utils\\traceback_utils.py\", line 70, in error_handler\n    raise e.with_traceback(filtered_tb) from None\n  File \"C:\\users\\trobb\\anaconda3\\Lib\\site-packages\\keras\\src\\engine\\training.py\", line 3983, in _assert_compile_was_called\n    raise RuntimeError(\nRuntimeError: You must compile your model before training/testing. Use `model.compile(optimizer, loss)`.\n",
     "output_type": "error",
     "traceback": [
      "\u001b[1;31m---------------------------------------------------------------------------\u001b[0m",
      "\u001b[1;31mRuntimeError\u001b[0m                              Traceback (most recent call last)",
      "Cell \u001b[1;32mIn[11], line 16\u001b[0m\n\u001b[0;32m     12\u001b[0m early_stopping \u001b[38;5;241m=\u001b[39m tf\u001b[38;5;241m.\u001b[39mkeras\u001b[38;5;241m.\u001b[39mcallbacks\u001b[38;5;241m.\u001b[39mEarlyStopping(monitor\u001b[38;5;241m=\u001b[39m\u001b[38;5;124m'\u001b[39m\u001b[38;5;124mval_loss\u001b[39m\u001b[38;5;124m'\u001b[39m,\n\u001b[0;32m     13\u001b[0m                                                   patience\u001b[38;5;241m=\u001b[39m\u001b[38;5;241m7\u001b[39m)\n\u001b[0;32m     15\u001b[0m \u001b[38;5;66;03m# Search for the best hyperparameters\u001b[39;00m\n\u001b[1;32m---> 16\u001b[0m tuner\u001b[38;5;241m.\u001b[39msearch(X_train, \n\u001b[0;32m     17\u001b[0m              y_train,\n\u001b[0;32m     18\u001b[0m              epochs\u001b[38;5;241m=\u001b[39m\u001b[38;5;241m100\u001b[39m,\n\u001b[0;32m     19\u001b[0m              validation_data\u001b[38;5;241m=\u001b[39m(X_val, y_val),\n\u001b[0;32m     20\u001b[0m              callbacks\u001b[38;5;241m=\u001b[39m[early_stopping])\n",
      "File \u001b[1;32mC:\\users\\trobb\\anaconda3\\Lib\\site-packages\\keras_tuner\\src\\engine\\base_tuner.py:234\u001b[0m, in \u001b[0;36mBaseTuner.search\u001b[1;34m(self, *fit_args, **fit_kwargs)\u001b[0m\n\u001b[0;32m    232\u001b[0m     \u001b[38;5;28mself\u001b[39m\u001b[38;5;241m.\u001b[39mon_trial_begin(trial)\n\u001b[0;32m    233\u001b[0m     \u001b[38;5;28mself\u001b[39m\u001b[38;5;241m.\u001b[39m_try_run_and_update_trial(trial, \u001b[38;5;241m*\u001b[39mfit_args, \u001b[38;5;241m*\u001b[39m\u001b[38;5;241m*\u001b[39mfit_kwargs)\n\u001b[1;32m--> 234\u001b[0m     \u001b[38;5;28mself\u001b[39m\u001b[38;5;241m.\u001b[39mon_trial_end(trial)\n\u001b[0;32m    235\u001b[0m \u001b[38;5;28mself\u001b[39m\u001b[38;5;241m.\u001b[39mon_search_end()\n",
      "File \u001b[1;32mC:\\users\\trobb\\anaconda3\\Lib\\site-packages\\keras_tuner\\src\\engine\\base_tuner.py:338\u001b[0m, in \u001b[0;36mBaseTuner.on_trial_end\u001b[1;34m(self, trial)\u001b[0m\n\u001b[0;32m    332\u001b[0m \u001b[38;5;28;01mdef\u001b[39;00m \u001b[38;5;21mon_trial_end\u001b[39m(\u001b[38;5;28mself\u001b[39m, trial):\n\u001b[0;32m    333\u001b[0m \u001b[38;5;250m    \u001b[39m\u001b[38;5;124;03m\"\"\"Called at the end of a trial.\u001b[39;00m\n\u001b[0;32m    334\u001b[0m \n\u001b[0;32m    335\u001b[0m \u001b[38;5;124;03m    Args:\u001b[39;00m\n\u001b[0;32m    336\u001b[0m \u001b[38;5;124;03m        trial: A `Trial` instance.\u001b[39;00m\n\u001b[0;32m    337\u001b[0m \u001b[38;5;124;03m    \"\"\"\u001b[39;00m\n\u001b[1;32m--> 338\u001b[0m     \u001b[38;5;28mself\u001b[39m\u001b[38;5;241m.\u001b[39moracle\u001b[38;5;241m.\u001b[39mend_trial(trial)\n\u001b[0;32m    339\u001b[0m     \u001b[38;5;28mself\u001b[39m\u001b[38;5;241m.\u001b[39msave()\n",
      "File \u001b[1;32mC:\\users\\trobb\\anaconda3\\Lib\\site-packages\\keras_tuner\\src\\engine\\oracle.py:108\u001b[0m, in \u001b[0;36msynchronized.<locals>.wrapped_func\u001b[1;34m(*args, **kwargs)\u001b[0m\n\u001b[0;32m    106\u001b[0m     LOCKS[oracle]\u001b[38;5;241m.\u001b[39macquire()\n\u001b[0;32m    107\u001b[0m     THREADS[oracle] \u001b[38;5;241m=\u001b[39m thread_name\n\u001b[1;32m--> 108\u001b[0m ret_val \u001b[38;5;241m=\u001b[39m func(\u001b[38;5;241m*\u001b[39margs, \u001b[38;5;241m*\u001b[39m\u001b[38;5;241m*\u001b[39mkwargs)\n\u001b[0;32m    109\u001b[0m \u001b[38;5;28;01mif\u001b[39;00m need_acquire:\n\u001b[0;32m    110\u001b[0m     THREADS[oracle] \u001b[38;5;241m=\u001b[39m \u001b[38;5;28;01mNone\u001b[39;00m\n",
      "File \u001b[1;32mC:\\users\\trobb\\anaconda3\\Lib\\site-packages\\keras_tuner\\src\\engine\\oracle.py:586\u001b[0m, in \u001b[0;36mOracle.end_trial\u001b[1;34m(self, trial)\u001b[0m\n\u001b[0;32m    584\u001b[0m \u001b[38;5;28;01mif\u001b[39;00m \u001b[38;5;129;01mnot\u001b[39;00m \u001b[38;5;28mself\u001b[39m\u001b[38;5;241m.\u001b[39m_retry(trial):\n\u001b[0;32m    585\u001b[0m     \u001b[38;5;28mself\u001b[39m\u001b[38;5;241m.\u001b[39mend_order\u001b[38;5;241m.\u001b[39mappend(trial\u001b[38;5;241m.\u001b[39mtrial_id)\n\u001b[1;32m--> 586\u001b[0m     \u001b[38;5;28mself\u001b[39m\u001b[38;5;241m.\u001b[39m_check_consecutive_failures()\n\u001b[0;32m    588\u001b[0m \u001b[38;5;28mself\u001b[39m\u001b[38;5;241m.\u001b[39m_save_trial(trial)\n\u001b[0;32m    589\u001b[0m \u001b[38;5;28mself\u001b[39m\u001b[38;5;241m.\u001b[39msave()\n",
      "File \u001b[1;32mC:\\users\\trobb\\anaconda3\\Lib\\site-packages\\keras_tuner\\src\\engine\\oracle.py:543\u001b[0m, in \u001b[0;36mOracle._check_consecutive_failures\u001b[1;34m(self)\u001b[0m\n\u001b[0;32m    541\u001b[0m     consecutive_failures \u001b[38;5;241m=\u001b[39m \u001b[38;5;241m0\u001b[39m\n\u001b[0;32m    542\u001b[0m \u001b[38;5;28;01mif\u001b[39;00m consecutive_failures \u001b[38;5;241m==\u001b[39m \u001b[38;5;28mself\u001b[39m\u001b[38;5;241m.\u001b[39mmax_consecutive_failed_trials:\n\u001b[1;32m--> 543\u001b[0m     \u001b[38;5;28;01mraise\u001b[39;00m \u001b[38;5;167;01mRuntimeError\u001b[39;00m(\n\u001b[0;32m    544\u001b[0m         \u001b[38;5;124m\"\u001b[39m\u001b[38;5;124mNumber of consecutive failures exceeded the limit \u001b[39m\u001b[38;5;124m\"\u001b[39m\n\u001b[0;32m    545\u001b[0m         \u001b[38;5;124mf\u001b[39m\u001b[38;5;124m\"\u001b[39m\u001b[38;5;124mof \u001b[39m\u001b[38;5;132;01m{\u001b[39;00m\u001b[38;5;28mself\u001b[39m\u001b[38;5;241m.\u001b[39mmax_consecutive_failed_trials\u001b[38;5;132;01m}\u001b[39;00m\u001b[38;5;124m.\u001b[39m\u001b[38;5;130;01m\\n\u001b[39;00m\u001b[38;5;124m\"\u001b[39m\n\u001b[0;32m    546\u001b[0m         \u001b[38;5;241m+\u001b[39m (trial\u001b[38;5;241m.\u001b[39mmessage \u001b[38;5;129;01mor\u001b[39;00m \u001b[38;5;124m\"\u001b[39m\u001b[38;5;124m\"\u001b[39m)\n\u001b[0;32m    547\u001b[0m     )\n",
      "\u001b[1;31mRuntimeError\u001b[0m: Number of consecutive failures exceeded the limit of 3.\nTraceback (most recent call last):\n  File \"C:\\users\\trobb\\anaconda3\\Lib\\site-packages\\keras_tuner\\src\\engine\\base_tuner.py\", line 273, in _try_run_and_update_trial\n    self._run_and_update_trial(trial, *fit_args, **fit_kwargs)\n  File \"C:\\users\\trobb\\anaconda3\\Lib\\site-packages\\keras_tuner\\src\\engine\\base_tuner.py\", line 238, in _run_and_update_trial\n    results = self.run_trial(trial, *fit_args, **fit_kwargs)\n              ^^^^^^^^^^^^^^^^^^^^^^^^^^^^^^^^^^^^^^^^^^^^^^\n  File \"C:\\users\\trobb\\anaconda3\\Lib\\site-packages\\keras_tuner\\src\\tuners\\hyperband.py\", line 427, in run_trial\n    return super().run_trial(trial, *fit_args, **fit_kwargs)\n           ^^^^^^^^^^^^^^^^^^^^^^^^^^^^^^^^^^^^^^^^^^^^^^^^^\n  File \"C:\\users\\trobb\\anaconda3\\Lib\\site-packages\\keras_tuner\\src\\engine\\tuner.py\", line 314, in run_trial\n    obj_value = self._build_and_fit_model(trial, *args, **copied_kwargs)\n                ^^^^^^^^^^^^^^^^^^^^^^^^^^^^^^^^^^^^^^^^^^^^^^^^^^^^^^^^\n  File \"C:\\users\\trobb\\anaconda3\\Lib\\site-packages\\keras_tuner\\src\\engine\\tuner.py\", line 233, in _build_and_fit_model\n    results = self.hypermodel.fit(hp, model, *args, **kwargs)\n              ^^^^^^^^^^^^^^^^^^^^^^^^^^^^^^^^^^^^^^^^^^^^^^^\n  File \"C:\\users\\trobb\\anaconda3\\Lib\\site-packages\\keras_tuner\\src\\engine\\hypermodel.py\", line 149, in fit\n    return model.fit(*args, **kwargs)\n           ^^^^^^^^^^^^^^^^^^^^^^^^^^\n  File \"C:\\users\\trobb\\anaconda3\\Lib\\site-packages\\keras\\src\\utils\\traceback_utils.py\", line 70, in error_handler\n    raise e.with_traceback(filtered_tb) from None\n  File \"C:\\users\\trobb\\anaconda3\\Lib\\site-packages\\keras\\src\\engine\\training.py\", line 3983, in _assert_compile_was_called\n    raise RuntimeError(\nRuntimeError: You must compile your model before training/testing. Use `model.compile(optimizer, loss)`.\n"
     ]
    }
   ],
   "source": [
    "# Keras Tuner for Hyperparameter Optimization\n",
    "\n",
    "tuner = Hyperband(\n",
    "    build_model,\n",
    "    objective='val_accuracy',\n",
    "    max_epochs=10,\n",
    "    directory='keras_tuner_dir',\n",
    "    project_name='character_recognition'\n",
    ")\n",
    "\n",
    "# Early Stopping Callback\n",
    "early_stopping = tf.keras.callbacks.EarlyStopping(monitor='val_loss',\n",
    "                                                  patience=7)\n",
    "\n",
    "# Search for the best hyperparameters\n",
    "tuner.search(X_train, \n",
    "             y_train,\n",
    "             epochs=100,\n",
    "             validation_data=(X_val, y_val),\n",
    "             callbacks=[early_stopping])\n"
   ]
  },
  {
   "cell_type": "code",
   "execution_count": 19,
   "id": "271979c6-3ff1-409a-bb81-5cdb8457f936",
   "metadata": {
    "tags": []
   },
   "outputs": [],
   "source": [
    "# Get the best model\n",
    "best_hp = tuner.get_best_hyperparameters()[0]\n",
    "best_model = build_model(best_hp)\n"
   ]
  },
  {
   "cell_type": "code",
   "execution_count": 21,
   "id": "8c00a0a9-0b0c-4eae-b5ef-c197e9a58f44",
   "metadata": {},
   "outputs": [],
   "source": [
    "# TensorBoard Setup\n",
    "\n",
    "log_dir = \"logs/fit/\" + datetime.datetime.now().strftime(\"%Y%m%d-%H%M%S\")\n",
    "tensorboard_callback = tf.keras.callbacks.TensorBoard(log_dir=\"./logs\")\n",
    "\n"
   ]
  },
  {
   "cell_type": "code",
   "execution_count": 23,
   "id": "0c9d3491-5b72-4028-97fe-3467cefd9e8a",
   "metadata": {},
   "outputs": [
    {
     "name": "stdout",
     "output_type": "stream",
     "text": [
      "Epoch 1/100\n",
      "WARNING:tensorflow:From C:\\users\\trobb\\anaconda3\\Lib\\site-packages\\keras\\src\\utils\\tf_utils.py:492: The name tf.ragged.RaggedTensorValue is deprecated. Please use tf.compat.v1.ragged.RaggedTensorValue instead.\n",
      "\n",
      "WARNING:tensorflow:From C:\\users\\trobb\\anaconda3\\Lib\\site-packages\\keras\\src\\engine\\base_layer_utils.py:384: The name tf.executing_eagerly_outside_functions is deprecated. Please use tf.compat.v1.executing_eagerly_outside_functions instead.\n",
      "\n",
      "76/76 [==============================] - 2s 19ms/step - loss: 4.1307 - accuracy: 0.0147 - val_loss: 4.1277 - val_accuracy: 0.0037\n",
      "Epoch 2/100\n",
      "76/76 [==============================] - 1s 16ms/step - loss: 4.1279 - accuracy: 0.0114 - val_loss: 4.1264 - val_accuracy: 0.0147\n",
      "Epoch 3/100\n",
      "76/76 [==============================] - 1s 16ms/step - loss: 4.1263 - accuracy: 0.0159 - val_loss: 4.1171 - val_accuracy: 0.0220\n",
      "Epoch 4/100\n",
      "76/76 [==============================] - 1s 17ms/step - loss: 4.0861 - accuracy: 0.0301 - val_loss: 3.9937 - val_accuracy: 0.0220\n",
      "Epoch 5/100\n",
      "76/76 [==============================] - 1s 17ms/step - loss: 3.7861 - accuracy: 0.0786 - val_loss: 3.3261 - val_accuracy: 0.1429\n",
      "Epoch 6/100\n",
      "76/76 [==============================] - 1s 16ms/step - loss: 3.2001 - accuracy: 0.1784 - val_loss: 2.6734 - val_accuracy: 0.2821\n",
      "Epoch 7/100\n",
      "76/76 [==============================] - 1s 16ms/step - loss: 2.6376 - accuracy: 0.2864 - val_loss: 2.0046 - val_accuracy: 0.4176\n",
      "Epoch 8/100\n",
      "76/76 [==============================] - 1s 16ms/step - loss: 2.2144 - accuracy: 0.3686 - val_loss: 1.5269 - val_accuracy: 0.5641\n",
      "Epoch 9/100\n",
      "76/76 [==============================] - 1s 16ms/step - loss: 1.8240 - accuracy: 0.4713 - val_loss: 1.1813 - val_accuracy: 0.6484\n",
      "Epoch 10/100\n",
      "76/76 [==============================] - 1s 17ms/step - loss: 1.5841 - accuracy: 0.5291 - val_loss: 1.2409 - val_accuracy: 0.6484\n",
      "Epoch 11/100\n",
      "76/76 [==============================] - 1s 16ms/step - loss: 1.3856 - accuracy: 0.5833 - val_loss: 0.9403 - val_accuracy: 0.7216\n",
      "Epoch 12/100\n",
      "76/76 [==============================] - 1s 16ms/step - loss: 1.2733 - accuracy: 0.6155 - val_loss: 0.8008 - val_accuracy: 0.7253\n",
      "Epoch 13/100\n",
      "76/76 [==============================] - 1s 16ms/step - loss: 1.1287 - accuracy: 0.6631 - val_loss: 0.8440 - val_accuracy: 0.7436\n",
      "Epoch 14/100\n",
      "76/76 [==============================] - 1s 16ms/step - loss: 1.0520 - accuracy: 0.6640 - val_loss: 0.8236 - val_accuracy: 0.7289\n",
      "Epoch 15/100\n",
      "76/76 [==============================] - 1s 17ms/step - loss: 0.9877 - accuracy: 0.6974 - val_loss: 0.7413 - val_accuracy: 0.7839\n",
      "Epoch 16/100\n",
      "76/76 [==============================] - 1s 17ms/step - loss: 0.8816 - accuracy: 0.7279 - val_loss: 0.6972 - val_accuracy: 0.7546\n",
      "Epoch 17/100\n",
      "76/76 [==============================] - 1s 17ms/step - loss: 0.8655 - accuracy: 0.7275 - val_loss: 0.6965 - val_accuracy: 0.7766\n",
      "Epoch 18/100\n",
      "76/76 [==============================] - 1s 16ms/step - loss: 0.8224 - accuracy: 0.7381 - val_loss: 0.6525 - val_accuracy: 0.8095\n",
      "Epoch 19/100\n",
      "76/76 [==============================] - 1s 16ms/step - loss: 0.7907 - accuracy: 0.7597 - val_loss: 0.6235 - val_accuracy: 0.8095\n",
      "Epoch 20/100\n",
      "76/76 [==============================] - 1s 16ms/step - loss: 0.7473 - accuracy: 0.7642 - val_loss: 0.6756 - val_accuracy: 0.7692\n",
      "Epoch 21/100\n",
      "76/76 [==============================] - 1s 17ms/step - loss: 0.7290 - accuracy: 0.7552 - val_loss: 0.5582 - val_accuracy: 0.8242\n",
      "Epoch 22/100\n",
      "76/76 [==============================] - 1s 17ms/step - loss: 0.6763 - accuracy: 0.7792 - val_loss: 0.6245 - val_accuracy: 0.7912\n",
      "Epoch 23/100\n",
      "76/76 [==============================] - 1s 17ms/step - loss: 0.6965 - accuracy: 0.7637 - val_loss: 0.5841 - val_accuracy: 0.7912\n",
      "Epoch 24/100\n",
      "76/76 [==============================] - 1s 17ms/step - loss: 0.6461 - accuracy: 0.7821 - val_loss: 0.5813 - val_accuracy: 0.8278\n",
      "Epoch 25/100\n",
      "76/76 [==============================] - 1s 17ms/step - loss: 0.6411 - accuracy: 0.7943 - val_loss: 0.5413 - val_accuracy: 0.8205\n",
      "Epoch 26/100\n",
      "76/76 [==============================] - 1s 17ms/step - loss: 0.6254 - accuracy: 0.7849 - val_loss: 0.6241 - val_accuracy: 0.8205\n",
      "Epoch 27/100\n",
      "76/76 [==============================] - 1s 17ms/step - loss: 0.5931 - accuracy: 0.7923 - val_loss: 0.5418 - val_accuracy: 0.8278\n",
      "Epoch 28/100\n",
      "76/76 [==============================] - 1s 17ms/step - loss: 0.5784 - accuracy: 0.8179 - val_loss: 0.6347 - val_accuracy: 0.7656\n",
      "Epoch 29/100\n",
      "76/76 [==============================] - 1s 16ms/step - loss: 0.5739 - accuracy: 0.8077 - val_loss: 0.5538 - val_accuracy: 0.8462\n",
      "Epoch 30/100\n",
      "76/76 [==============================] - 1s 17ms/step - loss: 0.5802 - accuracy: 0.8081 - val_loss: 0.5441 - val_accuracy: 0.8315\n",
      "Epoch 31/100\n",
      "76/76 [==============================] - 1s 17ms/step - loss: 0.5843 - accuracy: 0.8041 - val_loss: 0.5454 - val_accuracy: 0.8462\n",
      "Epoch 32/100\n",
      "76/76 [==============================] - 1s 16ms/step - loss: 0.5330 - accuracy: 0.8090 - val_loss: 0.5279 - val_accuracy: 0.8205\n",
      "Epoch 33/100\n",
      "76/76 [==============================] - 1s 17ms/step - loss: 0.5358 - accuracy: 0.8200 - val_loss: 0.5893 - val_accuracy: 0.8168\n",
      "Epoch 34/100\n",
      "76/76 [==============================] - 1s 16ms/step - loss: 0.5167 - accuracy: 0.8314 - val_loss: 0.5778 - val_accuracy: 0.8132\n",
      "Epoch 35/100\n",
      "76/76 [==============================] - 1s 17ms/step - loss: 0.5141 - accuracy: 0.8314 - val_loss: 0.5608 - val_accuracy: 0.8132\n",
      "Epoch 36/100\n",
      "76/76 [==============================] - 1s 16ms/step - loss: 0.5059 - accuracy: 0.8314 - val_loss: 0.5033 - val_accuracy: 0.8462\n",
      "Epoch 37/100\n",
      "76/76 [==============================] - 1s 17ms/step - loss: 0.4947 - accuracy: 0.8277 - val_loss: 0.5239 - val_accuracy: 0.8205\n",
      "Epoch 38/100\n",
      "76/76 [==============================] - 1s 17ms/step - loss: 0.4922 - accuracy: 0.8293 - val_loss: 0.5151 - val_accuracy: 0.8352\n",
      "Epoch 39/100\n",
      "76/76 [==============================] - 1s 17ms/step - loss: 0.4825 - accuracy: 0.8314 - val_loss: 0.5017 - val_accuracy: 0.8352\n",
      "Epoch 40/100\n",
      "76/76 [==============================] - 1s 17ms/step - loss: 0.4830 - accuracy: 0.8350 - val_loss: 0.4751 - val_accuracy: 0.8462\n",
      "Epoch 41/100\n",
      "76/76 [==============================] - 1s 16ms/step - loss: 0.4863 - accuracy: 0.8375 - val_loss: 0.4969 - val_accuracy: 0.8242\n",
      "Epoch 42/100\n",
      "76/76 [==============================] - 1s 16ms/step - loss: 0.4567 - accuracy: 0.8460 - val_loss: 0.4734 - val_accuracy: 0.8498\n",
      "Epoch 43/100\n",
      "76/76 [==============================] - 1s 17ms/step - loss: 0.4687 - accuracy: 0.8387 - val_loss: 0.5267 - val_accuracy: 0.8315\n",
      "Epoch 44/100\n",
      "76/76 [==============================] - 1s 17ms/step - loss: 0.4630 - accuracy: 0.8481 - val_loss: 0.4953 - val_accuracy: 0.8242\n",
      "Epoch 45/100\n",
      "76/76 [==============================] - 1s 17ms/step - loss: 0.4613 - accuracy: 0.8432 - val_loss: 0.4313 - val_accuracy: 0.8535\n",
      "Epoch 46/100\n",
      "76/76 [==============================] - 1s 17ms/step - loss: 0.4270 - accuracy: 0.8485 - val_loss: 0.4564 - val_accuracy: 0.8425\n",
      "Epoch 47/100\n",
      "76/76 [==============================] - 1s 17ms/step - loss: 0.4480 - accuracy: 0.8505 - val_loss: 0.4685 - val_accuracy: 0.8498\n",
      "Epoch 48/100\n",
      "76/76 [==============================] - 1s 16ms/step - loss: 0.4399 - accuracy: 0.8550 - val_loss: 0.4369 - val_accuracy: 0.8498\n",
      "Epoch 49/100\n",
      "76/76 [==============================] - 1s 17ms/step - loss: 0.4376 - accuracy: 0.8505 - val_loss: 0.4746 - val_accuracy: 0.8608\n",
      "Epoch 50/100\n",
      "76/76 [==============================] - 1s 18ms/step - loss: 0.4188 - accuracy: 0.8444 - val_loss: 0.5009 - val_accuracy: 0.8315\n",
      "Epoch 51/100\n",
      "76/76 [==============================] - 1s 18ms/step - loss: 0.4108 - accuracy: 0.8538 - val_loss: 0.4608 - val_accuracy: 0.8535\n",
      "Epoch 52/100\n",
      "76/76 [==============================] - 1s 17ms/step - loss: 0.4137 - accuracy: 0.8582 - val_loss: 0.5102 - val_accuracy: 0.8388\n"
     ]
    }
   ],
   "source": [
    "# Compile the model\n",
    "\n",
    "from tensorflow.keras.optimizers import SGD\n",
    "from tensorflow.keras.optimizers import RMSprop\n",
    "from tensorflow.keras.optimizers import Adadelta\n",
    "from tensorflow.keras.optimizers import Adagrad\n",
    "from tensorflow.keras.optimizers import Nadam\n",
    "\n",
    "\n",
    "final_epochs = 100  # Set the number of epochs for final training\n",
    "best_model.compile(optimizer = Adadelta(rho=0.97, \n",
    "                                        epsilon=1e-07, \n",
    "                                        learning_rate=0.98), \n",
    "                   loss='categorical_crossentropy',\n",
    "                   metrics=['accuracy'])\n",
    "\n",
    "\n",
    "history = best_model.fit(\n",
    "    datagen.flow(X_train, \n",
    "                 y_train, \n",
    "                 batch_size=32),\n",
    "    steps_per_epoch=len(X_train) / 32,\n",
    "    epochs=final_epochs,  # The maximum number of epochs\n",
    "    validation_data=(X_val, y_val),\n",
    "    callbacks=[early_stopping, tensorboard_callback]  # Add other callbacks if necessary\n",
    ")\n"
   ]
  },
  {
   "cell_type": "code",
   "execution_count": 25,
   "id": "13a9e54c-3a08-455e-8aa7-5314c07bdf11",
   "metadata": {},
   "outputs": [
    {
     "data": {
      "image/png": "[encoded data removed]",
      "text/plain": [
       "<Figure size 1200x400 with 2 Axes>"
      ]
     },
     "metadata": {},
     "output_type": "display_data"
    }
   ],
   "source": [
    "# Plot the training history\n",
    "\n",
    "# Plot training & validation accuracy values\n",
    "plt.figure(figsize=(12, 4))\n",
    "plt.subplot(1, 2, 1)\n",
    "plt.plot(history.history['accuracy'])\n",
    "plt.plot(history.history['val_accuracy'])\n",
    "plt.title('Model Accuracy')\n",
    "plt.ylabel('Accuracy')\n",
    "plt.xlabel('Epoch')\n",
    "plt.legend(['Train', 'Val'], loc='upper left')\n",
    "\n",
    "# Plot training & validation loss values\n",
    "plt.subplot(1, 2, 2)\n",
    "plt.plot(history.history['loss'])\n",
    "plt.plot(history.history['val_loss'])\n",
    "plt.title('Model Loss')\n",
    "plt.ylabel('Loss')\n",
    "plt.xlabel('Epoch')\n",
    "plt.legend(['Train', 'Val'], loc='upper left')\n",
    "\n",
    "plt.show()\n"
   ]
  },
  {
   "cell_type": "code",
   "execution_count": 27,
   "id": "b75de826-4bb5-44c1-b6fc-ff88454a6812",
   "metadata": {},
   "outputs": [
    {
     "name": "stdout",
     "output_type": "stream",
     "text": [
      "22/22 [==============================] - 0s 5ms/step - loss: 0.5790 - accuracy: 0.8196\n",
      "Test Accuracy: 81.96%\n"
     ]
    }
   ],
   "source": [
    "# Evaluate the model\n",
    "loss, accuracy = best_model.evaluate(X_test, y_test)\n",
    "print(f\"Test Accuracy: {accuracy*100:.2f}%\")\n"
   ]
  },
  {
   "cell_type": "code",
   "execution_count": null,
   "id": "e18ec3e1-83e8-4a09-b16c-8193fa8c5fa1",
   "metadata": {},
   "outputs": [],
   "source": [
    "# Saving and Loading the Model\n",
    "\n",
    "# Save the model\n",
    "best_model.save('character_recognition_model.h5')\n",
    "\n",
    "# To load the model\n",
    "loaded_model = tf.keras.models.load_model('character_recognition_model.h5')\n"
   ]
  },
  {
   "cell_type": "code",
   "execution_count": null,
   "id": "8f6031c9-4f39-4fb2-8883-5b6d11aa61af",
   "metadata": {},
   "outputs": [],
   "source": []
  },
  {
   "cell_type": "code",
   "execution_count": null,
   "id": "98ef1343-5d6e-42c7-aebf-b50381a8b6ef",
   "metadata": {},
   "outputs": [],
   "source": []
  }
 ],
 "metadata": {
  "kernelspec": {
   "display_name": "Python 3 (ipykernel)",
   "language": "python",
   "name": "python3"
  },
  "language_info": {
   "codemirror_mode": {
    "name": "ipython",
    "version": 3
   },
   "file_extension": ".py",
   "mimetype": "text/x-python",
   "name": "python",
   "nbconvert_exporter": "python",
   "pygments_lexer": "ipython3",
   "version": "3.11.5"
  }
 },
 "nbformat": 4,
 "nbformat_minor": 5
}
